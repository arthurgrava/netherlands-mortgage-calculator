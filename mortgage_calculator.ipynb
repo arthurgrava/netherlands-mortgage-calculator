{
 "cells": [
  {
   "cell_type": "markdown",
   "metadata": {},
   "source": [
    "# Mortgage calculator\n",
    "\n",
    "This notebook contains some Python code to analyze the two main mortgage types in the Netherlands:\n",
    "- **Annuity mortgage**: Monthly sum of principal and interest stays constant over time. \n",
    "- **Linear mortgage**: Monthly principal stays constant over time.\n",
    "\n",
    "## Import prerequisites:"
   ]
  },
  {
   "cell_type": "code",
   "execution_count": 1,
   "metadata": {},
   "outputs": [
    {
     "name": "stdout",
     "output_type": "stream",
     "text": [
      "Author: gmalim\n",
      "\n",
      "last updated: Sun Oct 18 2020\n",
      "\n",
      "CPython 3.6.5\n",
      "IPython 7.14.0\n",
      "\n",
      "matplotlib 3.3.2\n",
      "numpy 1.19.2\n",
      "pandas 1.1.3\n",
      "\n",
      "compiler   : GCC 4.2.1 Compatible Apple LLVM 8.0.0 (clang-800.0.42.1)\n",
      "system     : Darwin\n",
      "release    : 15.6.0\n",
      "machine    : x86_64\n",
      "processor  : i386\n",
      "CPU cores  : 2\n",
      "interpreter: 64bit\n"
     ]
    }
   ],
   "source": [
    "from datetime import date\n",
    "import matplotlib.pyplot as plt\n",
    "import numpy_financial as npf\n",
    "import pandas as pd\n",
    "\n",
    "%load_ext watermark\n",
    "%watermark -a \"Author: gmalim\" \n",
    "print(\"\")\n",
    "%watermark -u -n\n",
    "print(\"\")\n",
    "%watermark -v -p matplotlib,numpy,pandas\n",
    "print(\"\")\n",
    "%watermark -m"
   ]
  },
  {
   "cell_type": "markdown",
   "metadata": {},
   "source": [
    "## Methods\n",
    "\n",
    "Define annuity and linear mortgage calculation methods:"
   ]
  },
  {
   "cell_type": "code",
   "execution_count": 2,
   "metadata": {},
   "outputs": [],
   "source": [
    "def create_dataframe(n_years,\n",
    "                     n_payments_per_year,\n",
    "                     start_date):\n",
    "\n",
    "    rng = pd.date_range(start_date, periods=n_years*n_payments_per_year, freq='MS')\n",
    "    rng.name = \"Payment Date\"\n",
    "    column_names = ['Principal', 'Interest', 'Payment', 'Ending Balance']\n",
    "    df = pd.DataFrame(index=rng, columns=column_names, dtype='float')\n",
    "    df.reset_index(inplace=True)\n",
    "    df.index += 1\n",
    "    df.index.name = \"Period\"\n",
    "\n",
    "    return df"
   ]
  },
  {
   "cell_type": "code",
   "execution_count": 3,
   "metadata": {},
   "outputs": [],
   "source": [
    "def create_annuity_mortage_data(mortgage_value,\n",
    "                                interest_rate,\n",
    "                                n_years,\n",
    "                                n_payments_per_year,\n",
    "                                df):\n",
    "    \n",
    "    interest_rate_per_period = interest_rate / n_payments_per_year\n",
    "    n_payments = n_years * n_payments_per_year\n",
    "    \n",
    "    df[\"Principal\"] = -1 * npf.ppmt(interest_rate_per_period, df.index, n_payments, mortgage_value)\n",
    "    df[\"Interest\"] = -1 * npf.ipmt(interest_rate_per_period, df.index, n_payments, mortgage_value)\n",
    "    df[\"Payment\"] = -1 * npf.pmt(interest_rate_per_period, n_payments, mortgage_value)\n",
    "    \n",
    "    df[\"Ending Balance\"] = 0\n",
    "    df.loc[1, \"Ending Balance\"] = mortgage_value - df.loc[1, \"Principal\"]\n",
    "    for period in range(2, len(df)+1):\n",
    "        previous_balance = df.loc[period-1, 'Ending Balance']\n",
    "        principal_paid = df.loc[period, 'Principal']\n",
    "        df.loc[period, 'Ending Balance'] = previous_balance - principal_paid\n",
    "    \n",
    "    return"
   ]
  },
  {
   "cell_type": "code",
   "execution_count": 4,
   "metadata": {},
   "outputs": [],
   "source": [
    "def create_linear_mortage_data(mortgage_value,\n",
    "                               interest_rate,\n",
    "                               n_years,\n",
    "                               n_payments_per_year,\n",
    "                               df):\n",
    "    \n",
    "    principal_per_period = mortgage_value / n_years / n_payments_per_year\n",
    "    \n",
    "    df[\"Principal\"] = principal_per_period\n",
    "\n",
    "    df[\"Interest\"] = 0\n",
    "    df[\"Payment\"] = 0\n",
    "    df[\"Ending Balance\"] = 0\n",
    "    df.loc[1, \"Interest\"] = interest_rate / n_payments_per_year * mortgage_value\n",
    "    df.loc[1, \"Payment\"] = principal_per_period + df.loc[1, \"Interest\"]\n",
    "    df.loc[1, \"Ending Balance\"] = mortgage_value - df.loc[1, \"Principal\"]\n",
    "    for period in range(2, len(df)+1):\n",
    "        previous_balance = df.loc[period-1, 'Ending Balance']\n",
    "        interest = interest_rate / n_payments_per_year * previous_balance\n",
    "        payment = principal_per_period + interest\n",
    "        df.loc[period, 'Interest'] = interest\n",
    "        df.loc[period, 'Payment'] = payment\n",
    "        df.loc[period, 'Ending Balance'] = previous_balance - principal_per_period\n",
    "    \n",
    "    return"
   ]
  },
  {
   "cell_type": "markdown",
   "metadata": {},
   "source": [
    "## User input\n",
    "\n",
    "Choose mortgage value, annual interest rate and duration of the mortgage:"
   ]
  },
  {
   "cell_type": "code",
   "execution_count": 5,
   "metadata": {},
   "outputs": [],
   "source": [
    "mortgage_value = 600000 # mortgage value in €\n",
    "interest_rate = 0.02 # annual interest rate\n",
    "n_years = 30 # number of mortgage years\n",
    "n_payments_per_year = 12 # number of payments per year\n",
    "start_date = (date(2021, 1, 1)) # start date"
   ]
  },
  {
   "cell_type": "markdown",
   "metadata": {},
   "source": [
    "## Calculate mortgages"
   ]
  },
  {
   "cell_type": "code",
   "execution_count": 6,
   "metadata": {},
   "outputs": [
    {
     "name": "stdout",
     "output_type": "stream",
     "text": [
      "       Payment Date  Principal  Interest  Payment  Ending Balance\n",
      "Period                                                           \n",
      "1        2021-01-01    1217.72   1000.00  2217.72       598782.28\n",
      "2        2021-02-01    1219.75    997.97  2217.72       597562.54\n",
      "3        2021-03-01    1221.78    995.94  2217.72       596340.76\n",
      "4        2021-04-01    1223.82    993.90  2217.72       595116.94\n",
      "5        2021-05-01    1225.86    991.86  2217.72       593891.09\n",
      "...             ...        ...       ...      ...             ...\n",
      "356      2050-08-01    2199.33     18.39  2217.72         8834.03\n",
      "357      2050-09-01    2202.99     14.72  2217.72         6631.03\n",
      "358      2050-10-01    2206.67     11.05  2217.72         4424.37\n",
      "359      2050-11-01    2210.34      7.37  2217.72         2214.03\n",
      "360      2050-12-01    2214.03      3.69  2217.72            0.00\n",
      "\n",
      "[360 rows x 5 columns]\n"
     ]
    }
   ],
   "source": [
    "df_annuity = create_dataframe(n_years, n_payments_per_year, start_date)\n",
    "\n",
    "create_annuity_mortage_data(mortgage_value, interest_rate, n_years, n_payments_per_year, df_annuity)\n",
    "\n",
    "print(df_annuity.round(2))"
   ]
  },
  {
   "cell_type": "code",
   "execution_count": 7,
   "metadata": {
    "scrolled": true
   },
   "outputs": [
    {
     "name": "stdout",
     "output_type": "stream",
     "text": [
      "       Payment Date  Principal  Interest  Payment  Ending Balance\n",
      "Period                                                           \n",
      "1        2021-01-01    1666.67   1000.00  2666.67       598333.33\n",
      "2        2021-02-01    1666.67    997.22  2663.89       596666.67\n",
      "3        2021-03-01    1666.67    994.44  2661.11       595000.00\n",
      "4        2021-04-01    1666.67    991.67  2658.33       593333.33\n",
      "5        2021-05-01    1666.67    988.89  2655.56       591666.67\n",
      "...             ...        ...       ...      ...             ...\n",
      "356      2050-08-01    1666.67     13.89  1680.56         6666.67\n",
      "357      2050-09-01    1666.67     11.11  1677.78         5000.00\n",
      "358      2050-10-01    1666.67      8.33  1675.00         3333.33\n",
      "359      2050-11-01    1666.67      5.56  1672.22         1666.67\n",
      "360      2050-12-01    1666.67      2.78  1669.44           -0.00\n",
      "\n",
      "[360 rows x 5 columns]\n"
     ]
    }
   ],
   "source": [
    "df_linear = create_dataframe(n_years, n_payments_per_year, start_date)\n",
    "\n",
    "create_linear_mortage_data(mortgage_value, interest_rate, n_years, n_payments_per_year, df_linear)\n",
    "\n",
    "print(df_linear.round(2))"
   ]
  },
  {
   "cell_type": "markdown",
   "metadata": {},
   "source": [
    "## Visualize mortgages"
   ]
  },
  {
   "cell_type": "code",
   "execution_count": 8,
   "metadata": {},
   "outputs": [],
   "source": [
    "def make_plot(df):\n",
    "        \n",
    "    plt.figure(figsize=(20,14))\n",
    "    \n",
    "    # # Select only the first period of every year for visualization purposes:\n",
    "    # df = df.iloc[::n_payments_per_year, :]\n",
    "    # df[['Principal', 'Interest']].plot.bar(stacked=True)\n",
    "\n",
    "    # df[['Payment', 'Principal', 'Interest']].plot(kind='area', stacked=False, alpha=0.2)\n",
    "    df[['Payment', 'Principal', 'Interest']].plot()\n",
    "\n",
    "    margin_factor = 1.15\n",
    "    y_max = margin_factor * ((mortgage_value / n_years) + (interest_rate * mortgage_value)) / n_payments_per_year\n",
    "    plt.ylim(0, y_max)\n",
    "    plt.xlim(0, n_years * n_payments_per_year)\n",
    "    plt.grid(True)\n",
    "    plt.xlabel(\"Payment number\")\n",
    "    plt.ylabel(\"Amount (€)\")\n",
    "    plt.title(\"Mortgage = € {}, Rate = {:.1f} %, Duration = {} years\" \\\n",
    "              .format(mortgage_value, interest_rate * 100, n_years))\n",
    "    \n",
    "    total_interest = df[\"Interest\"].sum()\n",
    "    text_str = \"Total interest: € {:.2f} (i.e. {:.1f} % of mortgage)\" \\\n",
    "               .format(total_interest, total_interest / mortgage_value * 100)\n",
    "    plt.text(10, 100, text_str, fontsize=9)\n",
    "    \n",
    "    return"
   ]
  },
  {
   "cell_type": "code",
   "execution_count": 9,
   "metadata": {},
   "outputs": [
    {
     "data": {
      "text/plain": [
       "<Figure size 1440x1008 with 0 Axes>"
      ]
     },
     "metadata": {},
     "output_type": "display_data"
    },
    {
     "data": {
      "image/png": "[encoded data removed]",
      "text/plain": [
       "<Figure size 432x288 with 1 Axes>"
      ]
     },
     "metadata": {
      "needs_background": "light"
     },
     "output_type": "display_data"
    }
   ],
   "source": [
    "make_plot(df_annuity)"
   ]
  },
  {
   "cell_type": "code",
   "execution_count": 10,
   "metadata": {},
   "outputs": [
    {
     "data": {
      "text/plain": [
       "<Figure size 1440x1008 with 0 Axes>"
      ]
     },
     "metadata": {},
     "output_type": "display_data"
    },
    {
     "data": {
      "image/png": "[encoded data removed]",
      "text/plain": [
       "<Figure size 432x288 with 1 Axes>"
      ]
     },
     "metadata": {
      "needs_background": "light"
     },
     "output_type": "display_data"
    }
   ],
   "source": [
    "make_plot(df_linear)"
   ]
  },
  {
   "cell_type": "code",
   "execution_count": null,
   "metadata": {},
   "outputs": [],
   "source": []
  }
 ],
 "metadata": {
  "kernelspec": {
   "display_name": "Python 3",
   "language": "python",
   "name": "python3"
  },
  "language_info": {
   "codemirror_mode": {
    "name": "ipython",
    "version": 3
   },
   "file_extension": ".py",
   "mimetype": "text/x-python",
   "name": "python",
   "nbconvert_exporter": "python",
   "pygments_lexer": "ipython3",
   "version": "3.6.5"
  }
 },
 "nbformat": 4,
 "nbformat_minor": 2
}
